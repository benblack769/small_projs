{
  "nbformat": 4,
  "nbformat_minor": 0,
  "metadata": {
    "colab": {
      "name": "rl_lesson.ipynb",
      "provenance": [],
      "collapsed_sections": []
    },
    "kernelspec": {
      "name": "python3",
      "display_name": "Python 3"
    },
    "language_info": {
      "name": "python"
    }
  },
  "cells": [
    {
      "cell_type": "markdown",
      "source": [
        "Install system dependencies"
      ],
      "metadata": {
        "id": "58sNyWdqK_St"
      }
    },
    {
      "cell_type": "code",
      "source": [
        "!apt-get install -y ffmpeg xvfb -q"
      ],
      "metadata": {
        "id": "w3Durf5DGZjG",
        "colab": {
          "base_uri": "https://localhost:8080/"
        },
        "outputId": "b2176f23-a9e1-4b3b-b806-3f16dbca86f4"
      },
      "execution_count": 1,
      "outputs": [
        {
          "output_type": "stream",
          "name": "stdout",
          "text": [
            "Reading package lists...\n",
            "Building dependency tree...\n",
            "Reading state information...\n",
            "ffmpeg is already the newest version (7:3.4.8-0ubuntu0.2).\n",
            "The following package was automatically installed and is no longer required:\n",
            "  libnvidia-common-460\n",
            "Use 'apt autoremove' to remove it.\n",
            "The following NEW packages will be installed:\n",
            "  xvfb\n",
            "0 upgraded, 1 newly installed, 0 to remove and 45 not upgraded.\n",
            "Need to get 784 kB of archives.\n",
            "After this operation, 2,271 kB of additional disk space will be used.\n",
            "Get:1 http://archive.ubuntu.com/ubuntu bionic-updates/universe amd64 xvfb amd64 2:1.19.6-1ubuntu4.10 [784 kB]\n",
            "Fetched 784 kB in 0s (2,822 kB/s)\n",
            "Selecting previously unselected package xvfb.\n",
            "(Reading database ... 155632 files and directories currently installed.)\n",
            "Preparing to unpack .../xvfb_2%3a1.19.6-1ubuntu4.10_amd64.deb ...\n",
            "Unpacking xvfb (2:1.19.6-1ubuntu4.10) ...\n",
            "Setting up xvfb (2:1.19.6-1ubuntu4.10) ...\n",
            "Processing triggers for man-db (2.8.3-2ubuntu0.1) ...\n"
          ]
        }
      ]
    },
    {
      "cell_type": "code",
      "source": [
        "!pip install -U pyglet colabgymrender pyvirtualdisplay pyglet gym gym[classic_control] --upgrade"
      ],
      "metadata": {
        "id": "k1XRURRKK-O2",
        "colab": {
          "base_uri": "https://localhost:8080/"
        },
        "outputId": "ffda83b8-4e01-4abf-b31f-348ac674b7d9"
      },
      "execution_count": 2,
      "outputs": [
        {
          "output_type": "stream",
          "name": "stdout",
          "text": [
            "Looking in indexes: https://pypi.org/simple, https://us-python.pkg.dev/colab-wheels/public/simple/\n",
            "Requirement already satisfied: pyglet in /usr/local/lib/python3.7/dist-packages (1.5.0)\n",
            "Collecting pyglet\n",
            "  Downloading pyglet-1.5.26-py3-none-any.whl (1.1 MB)\n",
            "\u001b[K     |████████████████████████████████| 1.1 MB 5.0 MB/s \n",
            "\u001b[?25hCollecting colabgymrender\n",
            "  Downloading colabgymrender-1.0.9-py3-none-any.whl (3.1 kB)\n",
            "Collecting pyvirtualdisplay\n",
            "  Downloading PyVirtualDisplay-3.0-py3-none-any.whl (15 kB)\n",
            "Requirement already satisfied: gym in /usr/local/lib/python3.7/dist-packages (0.17.3)\n",
            "Collecting gym\n",
            "  Downloading gym-0.24.1.tar.gz (696 kB)\n",
            "\u001b[K     |████████████████████████████████| 696 kB 43.7 MB/s \n",
            "\u001b[?25h  Installing build dependencies ... \u001b[?25l\u001b[?25hdone\n",
            "  Getting requirements to build wheel ... \u001b[?25l\u001b[?25hdone\n",
            "    Preparing wheel metadata ... \u001b[?25l\u001b[?25hdone\n",
            "Requirement already satisfied: moviepy in /usr/local/lib/python3.7/dist-packages (from colabgymrender) (0.2.3.5)\n",
            "Collecting gym-notices>=0.0.4\n",
            "  Downloading gym_notices-0.0.7-py3-none-any.whl (2.7 kB)\n",
            "Requirement already satisfied: cloudpickle>=1.2.0 in /usr/local/lib/python3.7/dist-packages (from gym) (1.3.0)\n",
            "Requirement already satisfied: importlib-metadata>=4.8.0 in /usr/local/lib/python3.7/dist-packages (from gym) (4.11.4)\n",
            "Requirement already satisfied: numpy>=1.18.0 in /usr/local/lib/python3.7/dist-packages (from gym) (1.21.6)\n",
            "Requirement already satisfied: zipp>=0.5 in /usr/local/lib/python3.7/dist-packages (from importlib-metadata>=4.8.0->gym) (3.8.0)\n",
            "Requirement already satisfied: typing-extensions>=3.6.4 in /usr/local/lib/python3.7/dist-packages (from importlib-metadata>=4.8.0->gym) (4.2.0)\n",
            "Requirement already satisfied: scipy in /usr/local/lib/python3.7/dist-packages (from gym) (1.4.1)\n",
            "Requirement already satisfied: future in /usr/local/lib/python3.7/dist-packages (from pyglet) (0.16.0)\n",
            "Requirement already satisfied: tqdm<5.0,>=4.11.2 in /usr/local/lib/python3.7/dist-packages (from moviepy->colabgymrender) (4.64.0)\n",
            "Requirement already satisfied: imageio<3.0,>=2.1.2 in /usr/local/lib/python3.7/dist-packages (from moviepy->colabgymrender) (2.4.1)\n",
            "Requirement already satisfied: decorator<5.0,>=4.0.2 in /usr/local/lib/python3.7/dist-packages (from moviepy->colabgymrender) (4.4.2)\n",
            "Requirement already satisfied: pillow in /usr/local/lib/python3.7/dist-packages (from imageio<3.0,>=2.1.2->moviepy->colabgymrender) (7.1.2)\n",
            "Installing collected packages: pyvirtualdisplay, colabgymrender\n",
            "Successfully installed colabgymrender-1.0.9 pyvirtualdisplay-3.0\n"
          ]
        }
      ]
    },
    {
      "cell_type": "markdown",
      "source": [
        "Set up display on headless remote machine"
      ],
      "metadata": {
        "id": "LgHKSj3mLQe4"
      }
    },
    {
      "cell_type": "code",
      "source": [
        "import os\n",
        "os.system(\"Xvfb :1 -screen 0 1024x768x24 &\")\n",
        "os.environ['DISPLAY'] = ':1'"
      ],
      "metadata": {
        "id": "EA2LkAdKMHja"
      },
      "execution_count": 8,
      "outputs": []
    },
    {
      "cell_type": "code",
      "source": [
        "def get_latest_mp4(folder):\n",
        "  mp4_names = [name for name in os.listdir(folder) if name.endswith(\".mp4\") ]\n",
        "  mp4_names.sort(key=lambda x: x.split('.')[-2], reverse=True)\n",
        "  return os.path.join(folder, mp4_names[0])\n",
        "\n",
        "def show_video(mp4_path):\n",
        "  from IPython.display import HTML\n",
        "  from base64 import b64encode\n",
        "  mp4 = open(mp4_path,'rb').read()\n",
        "  data_url = \"data:video/mp4;base64,\" + b64encode(mp4).decode()\n",
        "  return HTML(\"\"\"\n",
        "  <video width=400 autoplay controls>\n",
        "        <source src=\"%s\" type=\"video/mp4\">\n",
        "  </video>\n",
        "  \"\"\" % data_url)"
      ],
      "metadata": {
        "id": "SrhuhQ1EPYzu"
      },
      "execution_count": 9,
      "outputs": []
    },
    {
      "cell_type": "code",
      "execution_count": 10,
      "metadata": {
        "id": "KCVN6-3DE7rc"
      },
      "outputs": [],
      "source": [
        "import gym.wrappers\n",
        "import random\n",
        "from colabgymrender.recorder import Recorder"
      ]
    },
    {
      "cell_type": "markdown",
      "source": [
        "We can watch a video of the environment taking random actions  [documentation for cartpole](https://www.gymlibrary.ml/environments/classic_control/cart_pole/)"
      ],
      "metadata": {
        "id": "BuuGvbv5WQFe"
      }
    },
    {
      "cell_type": "code",
      "source": [
        "env = gym.make(\"CartPole-v1\")\n",
        "env = gym.wrappers.Monitor(env, './videos/random', force=True)\n",
        "\n",
        "obs = env.reset()\n",
        "done = False\n",
        "while not done:\n",
        "    # take random actions\n",
        "    obs, rew, done, info = env.step(random.randint(0, 1)) # alternatively, we could use env.step(env.action_space.sample())\n",
        "    \n",
        "show_video(get_latest_mp4(\"./videos/random\"))"
      ],
      "metadata": {
        "id": "c7qQw1TvFJd8",
        "colab": {
          "base_uri": "https://localhost:8080/",
          "height": 222
        },
        "outputId": "d0fb8aff-bac8-4e6e-c825-8096d504d415"
      },
      "execution_count": 17,
      "outputs": [
        {
          "output_type": "execute_result",
          "data": {
            "text/plain": [
              "<IPython.core.display.HTML object>"
            ],
            "text/html": [
              "\n",
              "  <video width=400 autoplay controls>\n",
              "        <source src=\"data:video/mp4;base64,\" type=\"video/mp4\">\n",
              "  </video>\n",
              "  "
            ]
          },
          "metadata": {},
          "execution_count": 17
        }
      ]
    },
    {
      "cell_type": "markdown",
      "source": [
        "We can also measure how good of a job it is doing"
      ],
      "metadata": {
        "id": "JLcKSvPPWNJ8"
      }
    },
    {
      "cell_type": "code",
      "source": [
        "env = gym.make(\"CartPole-v1\")\n",
        "\n",
        "total_reward = 0\n",
        "num_episodes = 1000\n",
        "for i in range(num_episodes):\n",
        "  episodic_reward = 0\n",
        "  obs = env.reset()\n",
        "  done = False\n",
        "  while not done:\n",
        "      # take random actions\n",
        "      obs, rew, done, info = env.step(random.randint(0, 1)) # alternatively, we could use env.step(env.action_space.sample())\n",
        "      total_reward += rew\n",
        "\n",
        "total_reward / num_episodes"
      ],
      "metadata": {
        "colab": {
          "base_uri": "https://localhost:8080/"
        },
        "id": "qltFfPYGWcGy",
        "outputId": "d1615e69-9936-4d61-e453-d4e15a06e1e0"
      },
      "execution_count": 12,
      "outputs": [
        {
          "output_type": "execute_result",
          "data": {
            "text/plain": [
              "22.342"
            ]
          },
          "metadata": {},
          "execution_count": 12
        }
      ]
    },
    {
      "cell_type": "markdown",
      "source": [
        "Now we can try to make a better policy than random\n"
      ],
      "metadata": {
        "id": "Rz7fSV5qXV7K"
      }
    },
    {
      "cell_type": "code",
      "source": [
        "env = gym.make(\"CartPole-v1\")\n",
        "env = gym.wrappers.Monitor(env, './videos/manual', force=True)\n",
        "\n",
        "MOVE_LEFT = 0\n",
        "MOVE_RIGHT = 1\n",
        "\n",
        "def manual_policy(obs):\n",
        "  pos, vel, ang, angvel = obs\n",
        "  return MOVE_LEFT if ang <= 0 else MOVE_RIGHT\n",
        "\n",
        "total_reward = 0\n",
        "num_episodes = 100\n",
        "for i in range(num_episodes):\n",
        "  episodic_reward = 0\n",
        "  obs = env.reset()\n",
        "  done = False\n",
        "  while not done:\n",
        "      # take random actions\n",
        "      obs, rew, done, info = env.step(manual_policy(obs))\n",
        "      total_reward += rew\n",
        "    \n",
        "print(total_reward/num_episodes)\n",
        "show_video(get_latest_mp4(\"videos/manual\"))"
      ],
      "metadata": {
        "colab": {
          "base_uri": "https://localhost:8080/",
          "height": 235
        },
        "id": "uRQvwcD0RQCY",
        "outputId": "1d835ed5-9b0c-409a-ab9d-1210d00ff26e"
      },
      "execution_count": 1,
      "outputs": [
        {
          "output_type": "error",
          "ename": "NameError",
          "evalue": "ignored",
          "traceback": [
            "\u001b[0;31m---------------------------------------------------------------------------\u001b[0m",
            "\u001b[0;31mNameError\u001b[0m                                 Traceback (most recent call last)",
            "\u001b[0;32m<ipython-input-1-1ee0409f0cbf>\u001b[0m in \u001b[0;36m<module>\u001b[0;34m()\u001b[0m\n\u001b[0;32m----> 1\u001b[0;31m \u001b[0menv\u001b[0m \u001b[0;34m=\u001b[0m \u001b[0mgym\u001b[0m\u001b[0;34m.\u001b[0m\u001b[0mmake\u001b[0m\u001b[0;34m(\u001b[0m\u001b[0;34m\"CartPole-v1\"\u001b[0m\u001b[0;34m)\u001b[0m\u001b[0;34m\u001b[0m\u001b[0;34m\u001b[0m\u001b[0m\n\u001b[0m\u001b[1;32m      2\u001b[0m \u001b[0menv\u001b[0m \u001b[0;34m=\u001b[0m \u001b[0mgym\u001b[0m\u001b[0;34m.\u001b[0m\u001b[0mwrappers\u001b[0m\u001b[0;34m.\u001b[0m\u001b[0mMonitor\u001b[0m\u001b[0;34m(\u001b[0m\u001b[0menv\u001b[0m\u001b[0;34m,\u001b[0m \u001b[0;34m'./videos/manual'\u001b[0m\u001b[0;34m,\u001b[0m \u001b[0mforce\u001b[0m\u001b[0;34m=\u001b[0m\u001b[0;32mTrue\u001b[0m\u001b[0;34m)\u001b[0m\u001b[0;34m\u001b[0m\u001b[0;34m\u001b[0m\u001b[0m\n\u001b[1;32m      3\u001b[0m \u001b[0;34m\u001b[0m\u001b[0m\n\u001b[1;32m      4\u001b[0m \u001b[0mMOVE_LEFT\u001b[0m \u001b[0;34m=\u001b[0m \u001b[0;36m0\u001b[0m\u001b[0;34m\u001b[0m\u001b[0;34m\u001b[0m\u001b[0m\n\u001b[1;32m      5\u001b[0m \u001b[0mMOVE_RIGHT\u001b[0m \u001b[0;34m=\u001b[0m \u001b[0;36m1\u001b[0m\u001b[0;34m\u001b[0m\u001b[0;34m\u001b[0m\u001b[0m\n",
            "\u001b[0;31mNameError\u001b[0m: name 'gym' is not defined"
          ]
        }
      ]
    },
    {
      "cell_type": "code",
      "source": [
        "import numpy as np\n",
        "\n",
        "env = gym.make(\"CartPole-v1\")\n",
        "env = gym.wrappers.RecordVideo(env, './videos/matrix_manual')\n",
        "\n",
        "MOVE_LEFT = 0\n",
        "MOVE_RIGHT = 1\n",
        "\n",
        "matrix_policy = np.array([\n",
        "   [0, 0, 10, 0],\n",
        "])\n",
        "\n",
        "def manual_policy(obs):\n",
        "  logits = matrix_policy @ obs\n",
        "  prob_left = 1 / (1+np.exp(logits))\n",
        "  return MOVE_LEFT if random.random() < prob_left else MOVE_RIGHT\n",
        "\n",
        "\n",
        "total_reward = 0\n",
        "num_episodes = 100\n",
        "for i in range(num_episodes):\n",
        "  episodic_reward = 0\n",
        "  obs = env.reset()\n",
        "  done = False\n",
        "  while not done:\n",
        "      # take random actions\n",
        "      obs, rew, done, info = env.step(manual_policy(obs))\n",
        "      total_reward += rew\n",
        "    \n",
        "print(total_reward/num_episodes)\n",
        "show_video(get_latest_mp4(\"videos/manual\"))"
      ],
      "metadata": {
        "colab": {
          "base_uri": "https://localhost:8080/",
          "height": 306
        },
        "id": "FyQakzBIOHow",
        "outputId": "41fb479d-3b1a-4c19-d8f0-b28d856268d4"
      },
      "execution_count": null,
      "outputs": [
        {
          "output_type": "stream",
          "name": "stdout",
          "text": [
            "42.61\n"
          ]
        },
        {
          "output_type": "execute_result",
          "data": {
            "text/plain": [
              "<IPython.core.display.HTML object>"
            ],
            "text/html": [
              "\n",
              "  <video width=400 autoplay controls>\n",
              "        <source src=\"data:video/mp4;base64,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\" type=\"video/mp4\">\n",
              "  </video>\n",
              "  "
            ]
          },
          "metadata": {},
          "execution_count": 40
        }
      ]
    },
    {
      "cell_type": "markdown",
      "source": [
        "Policy gradient theorem\n",
        "-"
      ],
      "metadata": {
        "id": "-tCypmpmerJ4"
      }
    }
  ]
}